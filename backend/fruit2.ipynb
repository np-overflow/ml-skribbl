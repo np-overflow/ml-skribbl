{
  "nbformat": 4,
  "nbformat_minor": 0,
  "metadata": {
    "colab": {
      "provenance": []
    },
    "kernelspec": {
      "name": "python3",
      "display_name": "Python 3"
    },
    "language_info": {
      "name": "python"
    }
  },
  "cells": [
    {
      "cell_type": "code",
      "execution_count": null,
      "metadata": {
        "colab": {
          "base_uri": "https://localhost:8080/"
        },
        "id": "cqGfndsulhEV",
        "outputId": "75f0309b-2a0a-4482-cc70-58f142d6916e"
      },
      "outputs": [
        {
          "output_type": "stream",
          "name": "stdout",
          "text": [
            "Looking in indexes: https://pypi.org/simple, https://us-python.pkg.dev/colab-wheels/public/simple/\n",
            "Requirement already satisfied: lxml in /usr/local/lib/python3.8/dist-packages (4.9.2)\n"
          ]
        }
      ],
      "source": [
        "!pip install lxml"
      ]
    },
    {
      "cell_type": "code",
      "source": [
        "!mkdir data"
      ],
      "metadata": {
        "id": "f1Libg4alyLM"
      },
      "execution_count": null,
      "outputs": []
    },
    {
      "cell_type": "code",
      "source": [
        "cd data"
      ],
      "metadata": {
        "colab": {
          "base_uri": "https://localhost:8080/"
        },
        "id": "jkLJrzDQl1MA",
        "outputId": "10745a61-a005-46b4-896c-fadbbba828e9"
      },
      "execution_count": null,
      "outputs": [
        {
          "output_type": "stream",
          "name": "stdout",
          "text": [
            "/content/data\n"
          ]
        }
      ]
    },
    {
      "cell_type": "code",
      "source": [
        "!wget https://storage.googleapis.com/quickdraw_dataset/full/numpy_bitmap/apple.npy\n",
        "!wget https://storage.googleapis.com/quickdraw_dataset/full/numpy_bitmap/pineapple.npy\n",
        "!wget https://storage.googleapis.com/quickdraw_dataset/full/numpy_bitmap/grapes.npy\n",
        "!wget https://storage.googleapis.com/quickdraw_dataset/full/numpy_bitmap/banana.npy"
      ],
      "metadata": {
        "colab": {
          "base_uri": "https://localhost:8080/"
        },
        "id": "4fY5aLB7l3J1",
        "outputId": "73228098-eef4-4c2b-8a19-5f811553fbb5"
      },
      "execution_count": null,
      "outputs": [
        {
          "output_type": "stream",
          "name": "stdout",
          "text": [
            "--2022-12-29 15:55:54--  https://storage.googleapis.com/quickdraw_dataset/full/numpy_bitmap/apple.npy\n",
            "Resolving storage.googleapis.com (storage.googleapis.com)... 173.194.196.128, 173.194.197.128, 173.194.198.128, ...\n",
            "Connecting to storage.googleapis.com (storage.googleapis.com)|173.194.196.128|:443... connected.\n",
            "HTTP request sent, awaiting response... 200 OK\n",
            "Length: 113462128 (108M) [application/octet-stream]\n",
            "Saving to: ‘apple.npy’\n",
            "\n",
            "apple.npy           100%[===================>] 108.21M   166MB/s    in 0.7s    \n",
            "\n",
            "2022-12-29 15:55:55 (166 MB/s) - ‘apple.npy’ saved [113462128/113462128]\n",
            "\n",
            "--2022-12-29 15:55:55--  https://storage.googleapis.com/quickdraw_dataset/full/numpy_bitmap/pineapple.npy\n",
            "Resolving storage.googleapis.com (storage.googleapis.com)... 173.194.196.128, 173.194.197.128, 173.194.198.128, ...\n",
            "Connecting to storage.googleapis.com (storage.googleapis.com)|173.194.196.128|:443... connected.\n",
            "HTTP request sent, awaiting response... 200 OK\n",
            "Length: 98055744 (94M) [application/octet-stream]\n",
            "Saving to: ‘pineapple.npy’\n",
            "\n",
            "pineapple.npy       100%[===================>]  93.51M   169MB/s    in 0.6s    \n",
            "\n",
            "2022-12-29 15:55:56 (169 MB/s) - ‘pineapple.npy’ saved [98055744/98055744]\n",
            "\n",
            "--2022-12-29 15:55:56--  https://storage.googleapis.com/quickdraw_dataset/full/numpy_bitmap/grapes.npy\n",
            "Resolving storage.googleapis.com (storage.googleapis.com)... 173.194.196.128, 173.194.197.128, 173.194.198.128, ...\n",
            "Connecting to storage.googleapis.com (storage.googleapis.com)|173.194.196.128|:443... connected.\n",
            "HTTP request sent, awaiting response... 200 OK\n",
            "Length: 121759200 (116M) [application/octet-stream]\n",
            "Saving to: ‘grapes.npy’\n",
            "\n",
            "grapes.npy          100%[===================>] 116.12M   139MB/s    in 0.8s    \n",
            "\n",
            "2022-12-29 15:55:57 (139 MB/s) - ‘grapes.npy’ saved [121759200/121759200]\n",
            "\n",
            "--2022-12-29 15:55:57--  https://storage.googleapis.com/quickdraw_dataset/full/numpy_bitmap/banana.npy\n",
            "Resolving storage.googleapis.com (storage.googleapis.com)... 173.194.196.128, 173.194.197.128, 173.194.198.128, ...\n",
            "Connecting to storage.googleapis.com (storage.googleapis.com)|173.194.196.128|:443... connected.\n",
            "HTTP request sent, awaiting response... 200 OK\n",
            "Length: 241421904 (230M) [application/octet-stream]\n",
            "Saving to: ‘banana.npy’\n",
            "\n",
            "banana.npy          100%[===================>] 230.24M   121MB/s    in 1.9s    \n",
            "\n",
            "2022-12-29 15:55:59 (121 MB/s) - ‘banana.npy’ saved [241421904/241421904]\n",
            "\n"
          ]
        }
      ]
    },
    {
      "cell_type": "code",
      "source": [
        "!ls"
      ],
      "metadata": {
        "colab": {
          "base_uri": "https://localhost:8080/"
        },
        "id": "APlFR9VimPm2",
        "outputId": "fa92b91a-f547-483e-d11a-56a354593c1e"
      },
      "execution_count": null,
      "outputs": [
        {
          "output_type": "stream",
          "name": "stdout",
          "text": [
            "apple.npy  banana.npy  grapes.npy  pineapple.npy\n"
          ]
        }
      ]
    },
    {
      "cell_type": "code",
      "source": [
        "cd"
      ],
      "metadata": {
        "colab": {
          "base_uri": "https://localhost:8080/"
        },
        "id": "NDzd3WFTmTSx",
        "outputId": "35dcefc3-6564-43c1-f541-3f1080db0319"
      },
      "execution_count": null,
      "outputs": [
        {
          "output_type": "stream",
          "name": "stdout",
          "text": [
            "/root\n"
          ]
        }
      ]
    },
    {
      "cell_type": "code",
      "source": [
        "from sklearn.model_selection import train_test_split as train_test_split\n",
        "from keras.models import Sequential \n",
        "from keras.layers import Dense, Dropout, Conv2D, MaxPooling2D, Flatten\n",
        "from keras.utils import np_utils\n",
        "from random import randint\n",
        "import numpy as np\n",
        "import os\n",
        "from PIL import Image"
      ],
      "metadata": {
        "id": "kMyTkbd3mXlo"
      },
      "execution_count": null,
      "outputs": []
    },
    {
      "cell_type": "code",
      "source": [
        "#define some constants\n",
        "#total no of fruits\n",
        "N_FRUITS = 4\n",
        "#create a dictionary with the fruits\n",
        "FRUITS = {0:\"Apple\", 1:\"Banana\",2:\"Grape\",3:\"Pineapple\"}\n",
        "#number of samples to take in each class\n",
        "N = 5000\n",
        "#some other constants\n",
        "N_EPOCHS = 10\n",
        "\n",
        "#data files in the same order as defined in FRUITS dictionary\n",
        "files = [\"apple.npy\",\"banana.npy\",\"grapes.npy\", \"pineapple.npy\"]"
      ],
      "metadata": {
        "id": "k-2_6ywNmcku"
      },
      "execution_count": null,
      "outputs": []
    },
    {
      "cell_type": "code",
      "source": [
        "def load(dir,reshaped, files):\n",
        "  #take the .npy files and return them as arrays.\n",
        "  data = [ ]\n",
        "  for file in files:\n",
        "    f = np.load(dir + file)\n",
        "    if reshaped:\n",
        "      new_f =[]\n",
        "      for i in range(len(f)):\n",
        "        x = np.reshape(f[i], (28,28))\n",
        "        x = np.expand_dims(x, axis = 0)\n",
        "        x = np.reshape(f[i], (28,28,1))\n",
        "        new_f.append(x)\n",
        "      f = new_f\n",
        "    data.append(f)\n",
        "  return data\n",
        "\n",
        "def normalize(data):\n",
        "  #takes a list ot a list of lists and returns its normalized form\n",
        "  return np.interp(data, [0,255],[-1,1])\n",
        "\n",
        "def denormalize(data):\n",
        "  #takes a list ot a list of lists and returns its denormalized form \n",
        "  return np.interp(data,[-1,1],[0,255])\n",
        "\n",
        "def visualize(array):\n",
        "  #visualize a 2D array as an Image\n",
        "  array = np.reshape(array, (28,28))\n",
        "  img = Image.fromarray(array)\n",
        "  return img \n",
        "\n",
        "def set_limit(arrays, n):\n",
        "  #limit elements from each array up to n element and return a single list\n",
        "  new = []\n",
        "  for array in arrays:\n",
        "    i = 0\n",
        "    for item in array:\n",
        "      if i == n:\n",
        "        break\n",
        "      new.append(item)\n",
        "      i += 1\n",
        "  return new\n",
        "\n",
        "def make_labels(N1, N2):\n",
        "  #make labels from 0 to N1, each repeated N2 times\n",
        "  labels = []\n",
        "  for i in range(N1):\n",
        "    labels += [i] *N2\n",
        "  return labels"
      ],
      "metadata": {
        "id": "dbHh7N2qmjOY"
      },
      "execution_count": null,
      "outputs": []
    },
    {
      "cell_type": "code",
      "source": [
        "fruits = load(\"/content/data/\", False, [\"apple.npy\"])"
      ],
      "metadata": {
        "id": "8inwK9Mmmmw6"
      },
      "execution_count": null,
      "outputs": []
    },
    {
      "cell_type": "code",
      "source": [
        "visualize(fruits[0][0])"
      ],
      "metadata": {
        "colab": {
          "base_uri": "https://localhost:8080/",
          "height": 45
        },
        "id": "-QF68CGImuuU",
        "outputId": "da0b42cf-59b8-46cf-dbfe-751c5c248bd9"
      },
      "execution_count": null,
      "outputs": [
        {
          "output_type": "execute_result",
          "data": {
            "text/plain": [
              "<PIL.Image.Image image mode=L size=28x28 at 0x7FB533C01DF0>"
            ],
            "image/png": "[encoded data removed]"
          },
          "metadata": {},
          "execution_count": 11
        }
      ]
    },
    {
      "cell_type": "code",
      "source": [
        "#second argument is True for reshaping the image to 28 x 28 form. A conv net expects this format\n",
        "fruits = load(\"/content/data/\", True, files )\n",
        "\n",
        "fruits = set_limit(fruits, N)\n",
        "#to make the values -1 to 1. This is because neural network works better \n",
        "fruits = list(map(normalize, fruits))\n",
        "\n",
        "labels = make_labels(N_FRUITS, N)\n",
        "# 5 percent of the dataset will be reserve for training purposes only. (test_size)\n",
        "x_train, x_test, y_train, y_test = train_test_split(fruits, labels, test_size=0.05)\n",
        "\n",
        "#one hot encoding\n",
        "Y_train = np_utils.to_categorical(y_train, N_FRUITS)\n",
        "Y_test = np_utils.to_categorical(y_test, N_FRUITS)"
      ],
      "metadata": {
        "id": "-DIXA7JXmz3z"
      },
      "execution_count": null,
      "outputs": []
    },
    {
      "cell_type": "code",
      "source": [
        "#convu neural network\n",
        "model = Sequential()\n",
        "# the input shape is 28 by 28 because of the image size. 1 is due to it being black and white image\n",
        "model.add(Conv2D(32, kernel_size = (3 , 3), activation = \"relu\", input_shape = (28,28,1)))\n",
        "model.add(Conv2D(64, (3,3), activation = \"relu\"))\n",
        "#resizing kind of error. simplified image.\n",
        "model.add(MaxPooling2D(pool_size = (2,2)))\n",
        "#Dropout layout ensures that we are not overfitting the model\n",
        "model.add(Dropout(0.25))\n",
        "model.add(Flatten())\n",
        "model.add(Dense(128, activation = \"relu\"))\n",
        "model.add(Dropout(0.5))\n",
        "#the N_FRUITS is because we want the number of nodes to be the same as the no of catergory in N_FRUITS\n",
        "model.add(Dense(N_FRUITS, activation = \"softmax\"))\n"
      ],
      "metadata": {
        "id": "F2bUlK3Qq5ot"
      },
      "execution_count": null,
      "outputs": []
    },
    {
      "cell_type": "code",
      "source": [
        "model.compile(loss = \"categorical_crossentropy\", optimizer = \"adam\", metrics = [\"accuracy\"] )\n",
        "model.fit(np.array(x_train), np.array(Y_train), batch_size = 32, epochs = N_EPOCHS)\n",
        "print(\"Training complete\")\n",
        "print(\"Evaluating model\")\n",
        "preds = model.predict(np.array(x_test))\n",
        "\n",
        "score = 0\n",
        "for i in range(len(preds)):\n",
        "  if np.argmax(preds[i]) == y_test[i]:\n",
        "    score += 1\n",
        "print (\"Accuracy:\", ((score + 0.0)/ len(preds)) * 100)\n",
        "model.save(\"fruits\" + \".h5\")\n",
        "print(\"Model saved\")"
      ],
      "metadata": {
        "colab": {
          "base_uri": "https://localhost:8080/"
        },
        "id": "_1ryrGv4s6V4",
        "outputId": "c5aa4b15-8c3c-43a1-8d75-385f7cb14483"
      },
      "execution_count": null,
      "outputs": [
        {
          "output_type": "stream",
          "name": "stdout",
          "text": [
            "Epoch 1/10\n",
            "594/594 [==============================] - 58s 97ms/step - loss: 0.0532 - accuracy: 0.9822\n",
            "Epoch 2/10\n",
            "594/594 [==============================] - 61s 103ms/step - loss: 0.0464 - accuracy: 0.9836\n",
            "Epoch 3/10\n",
            "594/594 [==============================] - 61s 103ms/step - loss: 0.0395 - accuracy: 0.9863\n",
            "Epoch 4/10\n",
            "594/594 [==============================] - 58s 97ms/step - loss: 0.0379 - accuracy: 0.9864\n",
            "Epoch 5/10\n",
            "594/594 [==============================] - 57s 96ms/step - loss: 0.0335 - accuracy: 0.9890\n",
            "Epoch 6/10\n",
            "594/594 [==============================] - 57s 96ms/step - loss: 0.0333 - accuracy: 0.9881\n",
            "Epoch 7/10\n",
            "594/594 [==============================] - 56s 95ms/step - loss: 0.0309 - accuracy: 0.9890\n",
            "Epoch 8/10\n",
            "594/594 [==============================] - 60s 101ms/step - loss: 0.0291 - accuracy: 0.9891\n",
            "Epoch 9/10\n",
            "594/594 [==============================] - 56s 95ms/step - loss: 0.0236 - accuracy: 0.9909\n",
            "Epoch 10/10\n",
            "594/594 [==============================] - 57s 95ms/step - loss: 0.0288 - accuracy: 0.9898\n",
            "Training complete\n",
            "Evaluating model\n",
            "32/32 [==============================] - 1s 23ms/step\n",
            "Accuracy: 96.2\n",
            "Model saved\n"
          ]
        }
      ]
    },
    {
      "cell_type": "code",
      "source": [
        "from google.colab import drive\n",
        "drive.mount(\"/content/drive/\")"
      ],
      "metadata": {
        "colab": {
          "base_uri": "https://localhost:8080/"
        },
        "id": "ThhyncXc6HEc",
        "outputId": "d70b5183-1e26-410d-9c2a-45243b802237"
      },
      "execution_count": null,
      "outputs": [
        {
          "output_type": "stream",
          "name": "stdout",
          "text": [
            "Mounted at /content/drive/\n"
          ]
        }
      ]
    },
    {
      "cell_type": "code",
      "source": [
        "from tensorflow.keras.models import load_model\n",
        "path = \"/content/drive/MyDrive/saved data\"\n",
        "model.save_weights(path, True)"
      ],
      "metadata": {
        "id": "IkmVax0-b24R"
      },
      "execution_count": null,
      "outputs": []
    },
    {
      "cell_type": "code",
      "source": [
        "from keras.models import load_model\n",
        "model.save('/content/drive/MyDrive/saved data')\n",
        "\n"
      ],
      "metadata": {
        "colab": {
          "base_uri": "https://localhost:8080/",
          "height": 432
        },
        "id": "cMX-rCiXdk7X",
        "outputId": "65ba7c6c-c3d9-416c-f9a6-de81fb2ee8b3"
      },
      "execution_count": null,
      "outputs": [
        {
          "output_type": "stream",
          "name": "stderr",
          "text": [
            "WARNING:tensorflow:Skipping full serialization of Keras layer <keras.engine.training.Model object at 0x7fbc95ffc490>, because it is not built.\n"
          ]
        },
        {
          "output_type": "error",
          "ename": "ValueError",
          "evalue": "ignored",
          "traceback": [
            "\u001b[0;31m---------------------------------------------------------------------------\u001b[0m",
            "\u001b[0;31mValueError\u001b[0m                                Traceback (most recent call last)",
            "\u001b[0;32m<ipython-input-16-5a611d02a403>\u001b[0m in \u001b[0;36m<module>\u001b[0;34m\u001b[0m\n\u001b[1;32m      1\u001b[0m \u001b[0;32mfrom\u001b[0m \u001b[0mkeras\u001b[0m\u001b[0;34m.\u001b[0m\u001b[0mmodels\u001b[0m \u001b[0;32mimport\u001b[0m \u001b[0mload_model\u001b[0m\u001b[0;34m\u001b[0m\u001b[0;34m\u001b[0m\u001b[0m\n\u001b[0;32m----> 2\u001b[0;31m \u001b[0mmodel\u001b[0m\u001b[0;34m.\u001b[0m\u001b[0msave\u001b[0m\u001b[0;34m(\u001b[0m\u001b[0;34m'/content/drive/MyDrive/saved data'\u001b[0m\u001b[0;34m)\u001b[0m\u001b[0;34m\u001b[0m\u001b[0;34m\u001b[0m\u001b[0m\n\u001b[0m\u001b[1;32m      3\u001b[0m \u001b[0;34m\u001b[0m\u001b[0m\n",
            "\u001b[0;32m/usr/local/lib/python3.8/dist-packages/keras/utils/traceback_utils.py\u001b[0m in \u001b[0;36merror_handler\u001b[0;34m(*args, **kwargs)\u001b[0m\n\u001b[1;32m     65\u001b[0m     \u001b[0;32mexcept\u001b[0m \u001b[0mException\u001b[0m \u001b[0;32mas\u001b[0m \u001b[0me\u001b[0m\u001b[0;34m:\u001b[0m  \u001b[0;31m# pylint: disable=broad-except\u001b[0m\u001b[0;34m\u001b[0m\u001b[0;34m\u001b[0m\u001b[0m\n\u001b[1;32m     66\u001b[0m       \u001b[0mfiltered_tb\u001b[0m \u001b[0;34m=\u001b[0m \u001b[0m_process_traceback_frames\u001b[0m\u001b[0;34m(\u001b[0m\u001b[0me\u001b[0m\u001b[0;34m.\u001b[0m\u001b[0m__traceback__\u001b[0m\u001b[0;34m)\u001b[0m\u001b[0;34m\u001b[0m\u001b[0;34m\u001b[0m\u001b[0m\n\u001b[0;32m---> 67\u001b[0;31m       \u001b[0;32mraise\u001b[0m \u001b[0me\u001b[0m\u001b[0;34m.\u001b[0m\u001b[0mwith_traceback\u001b[0m\u001b[0;34m(\u001b[0m\u001b[0mfiltered_tb\u001b[0m\u001b[0;34m)\u001b[0m \u001b[0;32mfrom\u001b[0m \u001b[0;32mNone\u001b[0m\u001b[0;34m\u001b[0m\u001b[0;34m\u001b[0m\u001b[0m\n\u001b[0m\u001b[1;32m     68\u001b[0m     \u001b[0;32mfinally\u001b[0m\u001b[0;34m:\u001b[0m\u001b[0;34m\u001b[0m\u001b[0;34m\u001b[0m\u001b[0m\n\u001b[1;32m     69\u001b[0m       \u001b[0;32mdel\u001b[0m \u001b[0mfiltered_tb\u001b[0m\u001b[0;34m\u001b[0m\u001b[0;34m\u001b[0m\u001b[0m\n",
            "\u001b[0;32m/usr/local/lib/python3.8/dist-packages/keras/saving/saving_utils.py\u001b[0m in \u001b[0;36mraise_model_input_error\u001b[0;34m(model)\u001b[0m\n\u001b[1;32m     91\u001b[0m \u001b[0;34m\u001b[0m\u001b[0m\n\u001b[1;32m     92\u001b[0m   \u001b[0;31m# If the model is not a `Sequential`, it is intended to be a subclassed model.\u001b[0m\u001b[0;34m\u001b[0m\u001b[0;34m\u001b[0m\u001b[0;34m\u001b[0m\u001b[0m\n\u001b[0;32m---> 93\u001b[0;31m   raise ValueError(\n\u001b[0m\u001b[1;32m     94\u001b[0m       \u001b[0;34mf'Model {model} cannot be saved either because the input shape is not '\u001b[0m\u001b[0;34m\u001b[0m\u001b[0;34m\u001b[0m\u001b[0m\n\u001b[1;32m     95\u001b[0m       \u001b[0;34m'available or because the forward pass of the model is not defined.'\u001b[0m\u001b[0;34m\u001b[0m\u001b[0;34m\u001b[0m\u001b[0m\n",
            "\u001b[0;31mValueError\u001b[0m: Model <keras.engine.training.Model object at 0x7fbc95ffc490> cannot be saved either because the input shape is not available or because the forward pass of the model is not defined.To define a forward pass, please override `Model.call()`. To specify an input shape, either call `build(input_shape)` directly, or call the model on actual data using `Model()`, `Model.fit()`, or `Model.predict()`. If you have a custom training step, please make sure to invoke the forward pass in train step through `Model.__call__`, i.e. `model(inputs)`, as opposed to `model.call()`."
          ]
        }
      ]
    },
    {
      "cell_type": "markdown",
      "source": [],
      "metadata": {
        "id": "-SaL2ew0tA0h"
      }
    }
  ]
}