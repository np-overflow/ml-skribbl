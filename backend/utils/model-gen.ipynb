{
  "nbformat": 4,
  "nbformat_minor": 0,
  "metadata": {
    "colab": {
      "provenance": []
    },
    "kernelspec": {
      "name": "python3",
      "display_name": "Python 3"
    },
    "language_info": {
      "name": "python"
    }
  },
  "cells": [
    {
      "cell_type": "code",
      "execution_count": 30,
      "metadata": {
        "colab": {
          "base_uri": "https://localhost:8080/"
        },
        "id": "cqGfndsulhEV",
        "outputId": "21471d52-4951-4136-82b3-8a8e4645ff44"
      },
      "outputs": [
        {
          "output_type": "stream",
          "name": "stdout",
          "text": [
            "Looking in indexes: https://pypi.org/simple, https://us-python.pkg.dev/colab-wheels/public/simple/\n",
            "Requirement already satisfied: lxml in /usr/local/lib/python3.8/dist-packages (4.9.2)\n"
          ]
        }
      ],
      "source": [
        "!pip install lxml"
      ]
    },
    {
      "cell_type": "code",
      "source": [
        "%cd /content\n",
        "!mkdir data_0"
      ],
      "metadata": {
        "id": "f1Libg4alyLM",
        "colab": {
          "base_uri": "https://localhost:8080/"
        },
        "outputId": "4e10720d-7397-4f72-a26a-c61333885878"
      },
      "execution_count": 31,
      "outputs": [
        {
          "output_type": "stream",
          "name": "stdout",
          "text": [
            "/content\n"
          ]
        }
      ]
    },
    {
      "cell_type": "code",
      "source": [
        "%cd data_0"
      ],
      "metadata": {
        "colab": {
          "base_uri": "https://localhost:8080/"
        },
        "id": "te0ZXNziTMfm",
        "outputId": "5bce612c-8771-4454-e5c5-8f707c6b2bee"
      },
      "execution_count": 32,
      "outputs": [
        {
          "output_type": "stream",
          "name": "stdout",
          "text": [
            "/content/data_0\n"
          ]
        }
      ]
    },
    {
      "cell_type": "code",
      "source": [
        "!wget https://storage.googleapis.com/quickdraw_dataset/full/numpy_bitmap/book.npy"
      ],
      "metadata": {
        "id": "tKRcFFGGTlHp",
        "outputId": "2894b8bd-6b74-431a-8c53-29ae5c3a103e",
        "colab": {
          "base_uri": "https://localhost:8080/"
        }
      },
      "execution_count": 33,
      "outputs": [
        {
          "output_type": "stream",
          "name": "stdout",
          "text": [
            "--2023-01-04 15:06:10--  https://storage.googleapis.com/quickdraw_dataset/full/numpy_bitmap/book.npy\n",
            "Resolving storage.googleapis.com (storage.googleapis.com)... 142.251.16.128, 142.251.163.128, 142.251.167.128, ...\n",
            "Connecting to storage.googleapis.com (storage.googleapis.com)|142.251.16.128|:443... connected.\n",
            "HTTP request sent, awaiting response... 200 OK\n",
            "Length: 93581456 (89M) [application/octet-stream]\n",
            "Saving to: ‘book.npy’\n",
            "\n",
            "book.npy            100%[===================>]  89.25M   118MB/s    in 0.8s    \n",
            "\n",
            "2023-01-04 15:06:11 (118 MB/s) - ‘book.npy’ saved [93581456/93581456]\n",
            "\n"
          ]
        }
      ]
    },
    {
      "cell_type": "code",
      "source": [
        "!wget https://storage.googleapis.com/quickdraw_dataset/full/numpy_bitmap/book.npy\n",
        "!wget https://storage.googleapis.com/quickdraw_dataset/full/numpy_bitmap/calculator.npy\n",
        "!wget https://storage.googleapis.com/quickdraw_dataset/full/numpy_bitmap/camera.npy\n",
        "!wget https://storage.googleapis.com/quickdraw_dataset/full/numpy_bitmap/computer.npy\n",
        "!wget https://storage.googleapis.com/quickdraw_dataset/full/numpy_bitmap/envelope.npy\n",
        "!wget https://storage.googleapis.com/quickdraw_dataset/full/numpy_bitmap/headphones.npy\n",
        "!wget https://storage.googleapis.com/quickdraw_dataset/full/numpy_bitmap/laptop.npy\n",
        "!wget https://storage.googleapis.com/quickdraw_dataset/full/numpy_bitmap/mouse.npy\n",
        "!wget https://storage.googleapis.com/quickdraw_dataset/full/numpy_bitmap/radio.npy\n",
        "!wget https://storage.googleapis.com/quickdraw_dataset/full/numpy_bitmap/spreadsheet.npy\n",
        "!wget https://storage.googleapis.com/quickdraw_dataset/full/numpy_bitmap/telephone.npy\n",
        "!wget https://storage.googleapis.com/quickdraw_dataset/full/numpy_bitmap/television.npy"
      ],
      "metadata": {
        "colab": {
          "base_uri": "https://localhost:8080/"
        },
        "id": "4fY5aLB7l3J1",
        "outputId": "df832609-dc40-4f81-cb83-27ae9f72de2a"
      },
      "execution_count": 34,
      "outputs": [
        {
          "output_type": "stream",
          "name": "stdout",
          "text": [
            "--2023-01-04 15:06:11--  https://storage.googleapis.com/quickdraw_dataset/full/numpy_bitmap/book.npy\n",
            "Resolving storage.googleapis.com (storage.googleapis.com)... 142.251.16.128, 142.251.163.128, 142.251.167.128, ...\n",
            "Connecting to storage.googleapis.com (storage.googleapis.com)|142.251.16.128|:443... connected.\n",
            "HTTP request sent, awaiting response... 200 OK\n",
            "Length: 93581456 (89M) [application/octet-stream]\n",
            "Saving to: ‘book.npy.1’\n",
            "\n",
            "book.npy.1          100%[===================>]  89.25M   270MB/s    in 0.3s    \n",
            "\n",
            "2023-01-04 15:06:11 (270 MB/s) - ‘book.npy.1’ saved [93581456/93581456]\n",
            "\n",
            "--2023-01-04 15:06:12--  https://storage.googleapis.com/quickdraw_dataset/full/numpy_bitmap/calculator.npy\n",
            "Resolving storage.googleapis.com (storage.googleapis.com)... 142.251.16.128, 142.251.163.128, 142.251.167.128, ...\n",
            "Connecting to storage.googleapis.com (storage.googleapis.com)|142.251.16.128|:443... connected.\n",
            "HTTP request sent, awaiting response... 200 OK\n",
            "Length: 100646080 (96M) [application/octet-stream]\n",
            "Saving to: ‘calculator.npy’\n",
            "\n",
            "calculator.npy      100%[===================>]  95.98M   216MB/s    in 0.4s    \n",
            "\n",
            "2023-01-04 15:06:12 (216 MB/s) - ‘calculator.npy’ saved [100646080/100646080]\n",
            "\n",
            "--2023-01-04 15:06:12--  https://storage.googleapis.com/quickdraw_dataset/full/numpy_bitmap/camera.npy\n",
            "Resolving storage.googleapis.com (storage.googleapis.com)... 142.251.16.128, 142.251.163.128, 142.251.167.128, ...\n",
            "Connecting to storage.googleapis.com (storage.googleapis.com)|142.251.16.128|:443... connected.\n",
            "HTTP request sent, awaiting response... 200 OK\n",
            "Length: 100957328 (96M) [application/octet-stream]\n",
            "Saving to: ‘camera.npy’\n",
            "\n",
            "camera.npy          100%[===================>]  96.28M   145MB/s    in 0.7s    \n",
            "\n",
            "2023-01-04 15:06:13 (145 MB/s) - ‘camera.npy’ saved [100957328/100957328]\n",
            "\n",
            "--2023-01-04 15:06:13--  https://storage.googleapis.com/quickdraw_dataset/full/numpy_bitmap/computer.npy\n",
            "Resolving storage.googleapis.com (storage.googleapis.com)... 142.251.16.128, 142.251.163.128, 142.251.167.128, ...\n",
            "Connecting to storage.googleapis.com (storage.googleapis.com)|142.251.16.128|:443... connected.\n",
            "HTTP request sent, awaiting response... 200 OK\n",
            "Length: 97125920 (93M) [application/octet-stream]\n",
            "Saving to: ‘computer.npy’\n",
            "\n",
            "computer.npy        100%[===================>]  92.63M   167MB/s    in 0.6s    \n",
            "\n",
            "2023-01-04 15:06:14 (167 MB/s) - ‘computer.npy’ saved [97125920/97125920]\n",
            "\n",
            "--2023-01-04 15:06:14--  https://storage.googleapis.com/quickdraw_dataset/full/numpy_bitmap/envelope.npy\n",
            "Resolving storage.googleapis.com (storage.googleapis.com)... 142.251.16.128, 142.251.163.128, 142.251.167.128, ...\n",
            "Connecting to storage.googleapis.com (storage.googleapis.com)|142.251.16.128|:443... connected.\n",
            "HTTP request sent, awaiting response... 200 OK\n",
            "Length: 105732672 (101M) [application/octet-stream]\n",
            "Saving to: ‘envelope.npy’\n",
            "\n",
            "envelope.npy        100%[===================>] 100.83M   211MB/s    in 0.5s    \n",
            "\n",
            "2023-01-04 15:06:14 (211 MB/s) - ‘envelope.npy’ saved [105732672/105732672]\n",
            "\n",
            "--2023-01-04 15:06:14--  https://storage.googleapis.com/quickdraw_dataset/full/numpy_bitmap/headphones.npy\n",
            "Resolving storage.googleapis.com (storage.googleapis.com)... 142.251.16.128, 142.251.163.128, 142.251.167.128, ...\n",
            "Connecting to storage.googleapis.com (storage.googleapis.com)|142.251.16.128|:443... connected.\n",
            "HTTP request sent, awaiting response... 200 OK\n",
            "Length: 93222384 (89M) [application/octet-stream]\n",
            "Saving to: ‘headphones.npy’\n",
            "\n",
            "headphones.npy      100%[===================>]  88.90M   127MB/s    in 0.7s    \n",
            "\n",
            "2023-01-04 15:06:15 (127 MB/s) - ‘headphones.npy’ saved [93222384/93222384]\n",
            "\n",
            "--2023-01-04 15:06:15--  https://storage.googleapis.com/quickdraw_dataset/full/numpy_bitmap/laptop.npy\n",
            "Resolving storage.googleapis.com (storage.googleapis.com)... 142.251.16.128, 142.251.163.128, 142.251.167.128, ...\n",
            "Connecting to storage.googleapis.com (storage.googleapis.com)|142.251.16.128|:443... connected.\n",
            "HTTP request sent, awaiting response... 200 OK\n",
            "Length: 205016864 (196M) [application/octet-stream]\n",
            "Saving to: ‘laptop.npy’\n",
            "\n",
            "laptop.npy          100%[===================>] 195.52M   131MB/s    in 1.5s    \n",
            "\n",
            "2023-01-04 15:06:17 (131 MB/s) - ‘laptop.npy’ saved [205016864/205016864]\n",
            "\n",
            "--2023-01-04 15:06:17--  https://storage.googleapis.com/quickdraw_dataset/full/numpy_bitmap/mouse.npy\n",
            "Resolving storage.googleapis.com (storage.googleapis.com)... 142.251.16.128, 142.251.163.128, 142.251.167.128, ...\n",
            "Connecting to storage.googleapis.com (storage.googleapis.com)|142.251.16.128|:443... connected.\n",
            "HTTP request sent, awaiting response... 200 OK\n",
            "Length: 140199664 (134M) [application/octet-stream]\n",
            "Saving to: ‘mouse.npy’\n",
            "\n",
            "mouse.npy           100%[===================>] 133.70M   124MB/s    in 1.1s    \n",
            "\n",
            "2023-01-04 15:06:18 (124 MB/s) - ‘mouse.npy’ saved [140199664/140199664]\n",
            "\n",
            "--2023-01-04 15:06:18--  https://storage.googleapis.com/quickdraw_dataset/full/numpy_bitmap/radio.npy\n",
            "Resolving storage.googleapis.com (storage.googleapis.com)... 142.251.16.128, 142.251.163.128, 142.251.167.128, ...\n",
            "Connecting to storage.googleapis.com (storage.googleapis.com)|142.251.16.128|:443... connected.\n",
            "HTTP request sent, awaiting response... 200 OK\n",
            "Length: 106410832 (101M) [application/octet-stream]\n",
            "Saving to: ‘radio.npy’\n",
            "\n",
            "radio.npy           100%[===================>] 101.48M   181MB/s    in 0.6s    \n",
            "\n",
            "2023-01-04 15:06:19 (181 MB/s) - ‘radio.npy’ saved [106410832/106410832]\n",
            "\n",
            "--2023-01-04 15:06:19--  https://storage.googleapis.com/quickdraw_dataset/full/numpy_bitmap/spreadsheet.npy\n",
            "Resolving storage.googleapis.com (storage.googleapis.com)... 142.251.16.128, 142.251.163.128, 142.251.167.128, ...\n",
            "Connecting to storage.googleapis.com (storage.googleapis.com)|142.251.16.128|:443... connected.\n",
            "HTTP request sent, awaiting response... 200 OK\n",
            "Length: 133436880 (127M) [application/octet-stream]\n",
            "Saving to: ‘spreadsheet.npy’\n",
            "\n",
            "spreadsheet.npy     100%[===================>] 127.25M   183MB/s    in 0.7s    \n",
            "\n",
            "2023-01-04 15:06:20 (183 MB/s) - ‘spreadsheet.npy’ saved [133436880/133436880]\n",
            "\n",
            "--2023-01-04 15:06:20--  https://storage.googleapis.com/quickdraw_dataset/full/numpy_bitmap/telephone.npy\n",
            "Resolving storage.googleapis.com (storage.googleapis.com)... 142.251.16.128, 142.251.163.128, 142.251.167.128, ...\n",
            "Connecting to storage.googleapis.com (storage.googleapis.com)|142.251.16.128|:443... connected.\n",
            "HTTP request sent, awaiting response... 200 OK\n",
            "Length: 100261920 (96M) [application/octet-stream]\n",
            "Saving to: ‘telephone.npy’\n",
            "\n",
            "telephone.npy       100%[===================>]  95.62M   176MB/s    in 0.5s    \n",
            "\n",
            "2023-01-04 15:06:20 (176 MB/s) - ‘telephone.npy’ saved [100261920/100261920]\n",
            "\n",
            "--2023-01-04 15:06:21--  https://storage.googleapis.com/quickdraw_dataset/full/numpy_bitmap/television.npy\n",
            "Resolving storage.googleapis.com (storage.googleapis.com)... 142.251.16.128, 142.251.163.128, 142.251.167.128, ...\n",
            "Connecting to storage.googleapis.com (storage.googleapis.com)|142.251.16.128|:443... connected.\n",
            "HTTP request sent, awaiting response... 200 OK\n",
            "Length: 96539488 (92M) [application/octet-stream]\n",
            "Saving to: ‘television.npy’\n",
            "\n",
            "television.npy      100%[===================>]  92.07M   120MB/s    in 0.8s    \n",
            "\n",
            "2023-01-04 15:06:21 (120 MB/s) - ‘television.npy’ saved [96539488/96539488]\n",
            "\n"
          ]
        }
      ]
    },
    {
      "cell_type": "code",
      "source": [
        "!ls"
      ],
      "metadata": {
        "colab": {
          "base_uri": "https://localhost:8080/"
        },
        "id": "APlFR9VimPm2",
        "outputId": "573e4253-3c9a-44ad-cd62-e5804fb6edd1"
      },
      "execution_count": 35,
      "outputs": [
        {
          "output_type": "stream",
          "name": "stdout",
          "text": [
            "book.npy\tcamera.npy    headphones.npy  radio.npy        television.npy\n",
            "book.npy.1\tcomputer.npy  laptop.npy      spreadsheet.npy\n",
            "calculator.npy\tenvelope.npy  mouse.npy       telephone.npy\n"
          ]
        }
      ]
    },
    {
      "cell_type": "code",
      "source": [
        "%cd"
      ],
      "metadata": {
        "id": "8ZiAbqjvTwQe",
        "outputId": "c5026cfa-5479-479b-f5e7-d314e9224329",
        "colab": {
          "base_uri": "https://localhost:8080/"
        }
      },
      "execution_count": 36,
      "outputs": [
        {
          "output_type": "stream",
          "name": "stdout",
          "text": [
            "/root\n"
          ]
        }
      ]
    },
    {
      "cell_type": "code",
      "source": [
        "from sklearn.model_selection import train_test_split as train_test_split\n",
        "from keras.models import Sequential \n",
        "from keras.layers import Dense, Dropout, Conv2D, MaxPooling2D, Flatten\n",
        "from keras.utils import np_utils\n",
        "from random import randint\n",
        "import numpy as np\n",
        "import os\n",
        "from PIL import Image"
      ],
      "metadata": {
        "id": "kMyTkbd3mXlo"
      },
      "execution_count": 37,
      "outputs": []
    },
    {
      "cell_type": "code",
      "source": [
        "# Creates a dictionary with all the categories.\n",
        "CATEGORIES = { \n",
        "    0: \"Book\",\n",
        "    1: \"Calculator\",\n",
        "    2: \"Camera\",\n",
        "    3: \"Computer\",\n",
        "    4: \"Envelope\",\n",
        "    5: \"Headphones\",\n",
        "    6: \"Laptop\",\n",
        "    7: \"Mouse\",\n",
        "    8: \"Radio\",\n",
        "    9: \"Spreadsheet\",\n",
        "    10: \"Telephone\",\n",
        "    11: \"Television\",\n",
        "}\n",
        "N_CATEGORIES = len(CATEGORIES)\n",
        "\n",
        "# Defines the number of drawings per category to take in.\n",
        "N = 7500\n",
        "\n",
        "# Defines the number of epochs (iterations of training) the model will undergo.\n",
        "N_EPOCHS = 10\n",
        "\n",
        "# The files to learn from. They MUST match the information in CATEGORIES for proper classification.\n",
        "files = [\"book.npy\", \"calculator.npy\", \"camera.npy\", \"computer.npy\", \"envelope.npy\", \"headphones.npy\", \"laptop.npy\", \"mouse.npy\", \"radio.npy\", \"spreadsheet.npy\", \"telephone.npy\", \"television.npy\"]"
      ],
      "metadata": {
        "id": "k-2_6ywNmcku"
      },
      "execution_count": 38,
      "outputs": []
    },
    {
      "cell_type": "code",
      "source": [
        "def load(dir,reshaped, files):\n",
        "  # Takes the .npy files and return them as arrays.\n",
        "  data = [ ]\n",
        "  for file in files:\n",
        "    f = np.load(dir + file)\n",
        "    if reshaped:\n",
        "      new_f =[]\n",
        "      for i in range(len(f)):\n",
        "        x = np.reshape(f[i], (28,28))\n",
        "        x = np.expand_dims(x, axis = 0)\n",
        "        x = np.reshape(f[i], (28,28,1))\n",
        "        new_f.append(x)\n",
        "      f = new_f\n",
        "    data.append(f)\n",
        "  return data\n",
        "\n",
        "def normalize(data):\n",
        "  # Takes a list ot a list of lists and returns its normalized form.\n",
        "  return np.interp(data, [0,255],[-1,1])\n",
        "\n",
        "def denormalize(data):\n",
        "  # Takes a list ot a list of lists and returns its denormalized form.\n",
        "  return np.interp(data,[-1,1],[0,255])\n",
        "\n",
        "def visualize(array):\n",
        "  # Visualizes a 2D array as an Image.\n",
        "  array = np.reshape(array, (28,28))\n",
        "  img = Image.fromarray(array)\n",
        "  return img \n",
        "\n",
        "def set_limit(arrays, n):\n",
        "  # Limits the elements from each array up to the nth element and returns a single list.\n",
        "  new = []\n",
        "  for array in arrays:\n",
        "    i = 0\n",
        "    for item in array:\n",
        "      if i == n:\n",
        "        break\n",
        "      new.append(item)\n",
        "      i += 1\n",
        "  return new\n",
        "\n",
        "def make_labels(N1, N2):\n",
        "  # Make labels from 0 to N1, each repeated N2 times.\n",
        "  labels = []\n",
        "  for i in range(N1):\n",
        "    labels += [i] *N2\n",
        "  return labels"
      ],
      "metadata": {
        "id": "dbHh7N2qmjOY"
      },
      "execution_count": 39,
      "outputs": []
    },
    {
      "cell_type": "code",
      "source": [
        "images = load(\"/content/data_0/\", False, [\"book.npy\"])"
      ],
      "metadata": {
        "id": "8inwK9Mmmmw6"
      },
      "execution_count": 40,
      "outputs": []
    },
    {
      "cell_type": "code",
      "source": [
        "visualize(images[0][0])"
      ],
      "metadata": {
        "colab": {
          "base_uri": "https://localhost:8080/",
          "height": 45
        },
        "id": "-QF68CGImuuU",
        "outputId": "a132dc34-c608-44c6-91be-5d971d983088"
      },
      "execution_count": 41,
      "outputs": [
        {
          "output_type": "execute_result",
          "data": {
            "text/plain": [
              "<PIL.Image.Image image mode=L size=28x28 at 0x7F143BC55490>"
            ],
            "image/png": "[encoded data removed]"
          },
          "metadata": {},
          "execution_count": 41
        }
      ]
    },
    {
      "cell_type": "code",
      "source": [
        "# Loads the content into /content/data/ while reshaping images to 28 x 28 (second True argument). A ConvNet expects this format.\n",
        "images = load(\"/content/data_0/\", True, files)\n",
        "\n",
        "images = set_limit(images, N)\n",
        "# Normalizes the values and makes the values -1 to 1. This ensures better performance of the model.\n",
        "images = list(map(normalize, images))\n",
        "\n",
        "labels = make_labels(N_CATEGORIES, N)\n",
        "\n",
        "# Reserves 5 percent of the dataset for training purposes only (test_size) and splits the data into training and testing datasets.\n",
        "x_train, x_test, y_train, y_test = train_test_split(images, labels, test_size=0.05)\n",
        "\n",
        "# Performs one-hot encoding.\n",
        "Y_train = np_utils.to_categorical(y_train, N_CATEGORIES)\n",
        "Y_test = np_utils.to_categorical(y_test, N_CATEGORIES)"
      ],
      "metadata": {
        "id": "-DIXA7JXmz3z"
      },
      "execution_count": 42,
      "outputs": []
    },
    {
      "cell_type": "code",
      "source": [
        "# Creating the ConvNet, adding a process each step of the way.\n",
        "model = Sequential()\n",
        "\n",
        "# The input shape is 28 x 28 because of the image size, and 1 is due to it being black and white image (1 channel instead of 3 channels for RGB).\n",
        "model.add(Conv2D(32, kernel_size=(3 , 3), activation=\"relu\", input_shape=(28,28,1)))\n",
        "model.add(Conv2D(64, (3,3), activation=\"relu\"))\n",
        "\n",
        "# A resizing kind of error. Simplified image.\n",
        "model.add(MaxPooling2D(pool_size = (2,2)))\n",
        "\n",
        "# Dropout layers ensure that we are not overfitting the model.\n",
        "model.add(Dropout(0.25))\n",
        "model.add(Flatten())\n",
        "model.add(Dense(128, activation=\"relu\"))\n",
        "model.add(Dropout(0.5))\n",
        "\n",
        "# The N_CATEGORIES is present because we want the number of nodes to be the same as the number of categories.\n",
        "model.add(Dense(N_CATEGORIES, activation=\"softmax\"))\n"
      ],
      "metadata": {
        "id": "F2bUlK3Qq5ot"
      },
      "execution_count": 43,
      "outputs": []
    },
    {
      "cell_type": "code",
      "source": [
        "%cd /content"
      ],
      "metadata": {
        "colab": {
          "base_uri": "https://localhost:8080/"
        },
        "id": "K-NmwPEMS_gy",
        "outputId": "39e68434-2f22-4c25-9ff7-b75a0a932a71"
      },
      "execution_count": 44,
      "outputs": [
        {
          "output_type": "stream",
          "name": "stdout",
          "text": [
            "/content\n"
          ]
        }
      ]
    },
    {
      "cell_type": "code",
      "source": [
        "# Compiles and trains the model; the fit() function is the most important in actually creating the model.\n",
        "model.compile(loss=\"categorical_crossentropy\", optimizer=\"adam\", metrics=[\"accuracy\"] )\n",
        "model.fit(np.array(x_train), np.array(Y_train), batch_size=32, epochs=N_EPOCHS)\n",
        "print(\"Training complete\")\n",
        "\n",
        "# Evaluates the performance of the model by passing a test image into it.\n",
        "print(\"Evaluating model\")\n",
        "preds = model.predict(np.array(x_test))\n",
        "\n",
        "# Calculates an accuracy score and displays it.\n",
        "score = 0\n",
        "for i in range(len(preds)):\n",
        "  if np.argmax(preds[i]) == y_test[i]:\n",
        "    score += 1\n",
        "print(\"Accuracy:\", ((score + 0.0)/ len(preds)) * 100)\n",
        "\n",
        "# Saves the model as a Keras H5 (.h5) file.\n",
        "model.save(\"model.h5\")\n",
        "print(\"Model saved\")"
      ],
      "metadata": {
        "colab": {
          "base_uri": "https://localhost:8080/"
        },
        "id": "_1ryrGv4s6V4",
        "outputId": "8f358b7a-4542-4152-ed16-e235f682ab5c"
      },
      "execution_count": 45,
      "outputs": [
        {
          "output_type": "stream",
          "name": "stdout",
          "text": [
            "Epoch 1/10\n",
            "2672/2672 [==============================] - 164s 61ms/step - loss: 0.7691 - accuracy: 0.7608\n",
            "Epoch 2/10\n",
            "2672/2672 [==============================] - 163s 61ms/step - loss: 0.5509 - accuracy: 0.8294\n",
            "Epoch 3/10\n",
            "2672/2672 [==============================] - 157s 59ms/step - loss: 0.4767 - accuracy: 0.8496\n",
            "Epoch 4/10\n",
            "2672/2672 [==============================] - 159s 59ms/step - loss: 0.4303 - accuracy: 0.8639\n",
            "Epoch 5/10\n",
            "2672/2672 [==============================] - 156s 59ms/step - loss: 0.3900 - accuracy: 0.8751\n",
            "Epoch 6/10\n",
            "2672/2672 [==============================] - 161s 60ms/step - loss: 0.3567 - accuracy: 0.8822\n",
            "Epoch 7/10\n",
            "2672/2672 [==============================] - 158s 59ms/step - loss: 0.3323 - accuracy: 0.8890\n",
            "Epoch 8/10\n",
            "2672/2672 [==============================] - 157s 59ms/step - loss: 0.3107 - accuracy: 0.8968\n",
            "Epoch 9/10\n",
            "2672/2672 [==============================] - 160s 60ms/step - loss: 0.2937 - accuracy: 0.9013\n",
            "Epoch 10/10\n",
            "2672/2672 [==============================] - 160s 60ms/step - loss: 0.2759 - accuracy: 0.9068\n",
            "Training complete\n",
            "Evaluating model\n",
            "141/141 [==============================] - 2s 15ms/step\n",
            "Accuracy: 89.0\n",
            "Model saved\n"
          ]
        }
      ]
    }
  ]
}