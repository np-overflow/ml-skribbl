{
 "cells": [
  {
   "cell_type": "code",
   "execution_count": 2,
   "metadata": {
    "colab": {
     "base_uri": "https://localhost:8080/"
    },
    "id": "f1Libg4alyLM",
    "outputId": "4e10720d-7397-4f72-a26a-c61333885878"
   },
   "outputs": [],
   "source": [
    "!mkdir data"
   ]
  },
  {
   "cell_type": "code",
   "execution_count": 3,
   "metadata": {
    "colab": {
     "base_uri": "https://localhost:8080/"
    },
    "id": "te0ZXNziTMfm",
    "outputId": "5bce612c-8771-4454-e5c5-8f707c6b2bee"
   },
   "outputs": [
    {
     "name": "stdout",
     "output_type": "stream",
     "text": [
      "/home/arashnrim/ml-skribbl/backend/utils/data\n"
     ]
    }
   ],
   "source": [
    "%cd data"
   ]
  },
  {
   "cell_type": "code",
   "execution_count": 4,
   "metadata": {
    "colab": {
     "base_uri": "https://localhost:8080/"
    },
    "id": "4fY5aLB7l3J1",
    "outputId": "df832609-dc40-4f81-cb83-27ae9f72de2a",
    "tags": []
   },
   "outputs": [
    {
     "name": "stdout",
     "output_type": "stream",
     "text": [
      "--2024-01-14 18:08:06--  https://storage.googleapis.com/quickdraw_dataset/full/numpy_bitmap/book.npy\n",
      "Resolving storage.googleapis.com (storage.googleapis.com)... 142.251.12.207, 172.217.194.207, 74.125.200.207, ...\n",
      "Connecting to storage.googleapis.com (storage.googleapis.com)|142.251.12.207|:443... connected.\n",
      "HTTP request sent, awaiting response... 200 OK\n",
      "Length: 93581456 (89M) [application/octet-stream]\n",
      "Saving to: ‘book.npy’\n",
      "\n",
      "book.npy            100%[===================>]  89.25M  17.7MB/s    in 6.1s    \n",
      "\n",
      "2024-01-14 18:08:13 (14.7 MB/s) - ‘book.npy’ saved [93581456/93581456]\n",
      "\n",
      "--2024-01-14 18:08:13--  https://storage.googleapis.com/quickdraw_dataset/full/numpy_bitmap/calculator.npy\n",
      "Resolving storage.googleapis.com (storage.googleapis.com)... 142.251.12.207, 172.217.194.207, 74.125.200.207, ...\n",
      "Connecting to storage.googleapis.com (storage.googleapis.com)|142.251.12.207|:443... connected.\n",
      "HTTP request sent, awaiting response... 200 OK\n",
      "Length: 100646080 (96M) [application/octet-stream]\n",
      "Saving to: ‘calculator.npy’\n",
      "\n",
      "calculator.npy      100%[===================>]  95.98M  21.1MB/s    in 5.5s    \n",
      "\n",
      "2024-01-14 18:08:19 (17.4 MB/s) - ‘calculator.npy’ saved [100646080/100646080]\n",
      "\n",
      "--2024-01-14 18:08:19--  https://storage.googleapis.com/quickdraw_dataset/full/numpy_bitmap/camera.npy\n",
      "Resolving storage.googleapis.com (storage.googleapis.com)... 142.251.12.207, 172.217.194.207, 74.125.200.207, ...\n",
      "Connecting to storage.googleapis.com (storage.googleapis.com)|142.251.12.207|:443... connected.\n",
      "HTTP request sent, awaiting response... 200 OK\n",
      "Length: 100957328 (96M) [application/octet-stream]\n",
      "Saving to: ‘camera.npy’\n",
      "\n",
      "camera.npy          100%[===================>]  96.28M  22.7MB/s    in 5.5s    \n",
      "\n",
      "2024-01-14 18:08:25 (17.5 MB/s) - ‘camera.npy’ saved [100957328/100957328]\n",
      "\n",
      "--2024-01-14 18:08:25--  https://storage.googleapis.com/quickdraw_dataset/full/numpy_bitmap/computer.npy\n",
      "Resolving storage.googleapis.com (storage.googleapis.com)... 142.251.12.207, 172.217.194.207, 74.125.200.207, ...\n",
      "Connecting to storage.googleapis.com (storage.googleapis.com)|142.251.12.207|:443... connected.\n",
      "HTTP request sent, awaiting response... 200 OK\n",
      "Length: 97125920 (93M) [application/octet-stream]\n",
      "Saving to: ‘computer.npy’\n",
      "\n",
      "computer.npy        100%[===================>]  92.63M  19.8MB/s    in 5.6s    \n",
      "\n",
      "2024-01-14 18:08:31 (16.5 MB/s) - ‘computer.npy’ saved [97125920/97125920]\n",
      "\n",
      "--2024-01-14 18:08:31--  https://storage.googleapis.com/quickdraw_dataset/full/numpy_bitmap/envelope.npy\n",
      "Resolving storage.googleapis.com (storage.googleapis.com)... 142.251.12.207, 172.217.194.207, 74.125.200.207, ...\n",
      "Connecting to storage.googleapis.com (storage.googleapis.com)|142.251.12.207|:443... connected.\n",
      "HTTP request sent, awaiting response... 200 OK\n",
      "Length: 105732672 (101M) [application/octet-stream]\n",
      "Saving to: ‘envelope.npy’\n",
      "\n",
      "envelope.npy        100%[===================>] 100.83M  21.0MB/s    in 5.7s    \n",
      "\n",
      "2024-01-14 18:08:37 (17.6 MB/s) - ‘envelope.npy’ saved [105732672/105732672]\n",
      "\n",
      "--2024-01-14 18:08:38--  https://storage.googleapis.com/quickdraw_dataset/full/numpy_bitmap/headphones.npy\n",
      "Resolving storage.googleapis.com (storage.googleapis.com)... 142.251.12.207, 172.217.194.207, 74.125.200.207, ...\n",
      "Connecting to storage.googleapis.com (storage.googleapis.com)|142.251.12.207|:443... connected.\n",
      "HTTP request sent, awaiting response... 200 OK\n",
      "Length: 93222384 (89M) [application/octet-stream]\n",
      "Saving to: ‘headphones.npy’\n",
      "\n",
      "headphones.npy      100%[===================>]  88.90M  21.6MB/s    in 5.1s    \n",
      "\n",
      "2024-01-14 18:08:43 (17.6 MB/s) - ‘headphones.npy’ saved [93222384/93222384]\n",
      "\n",
      "--2024-01-14 18:08:43--  https://storage.googleapis.com/quickdraw_dataset/full/numpy_bitmap/laptop.npy\n",
      "Resolving storage.googleapis.com (storage.googleapis.com)... 142.251.12.207, 172.217.194.207, 74.125.200.207, ...\n",
      "Connecting to storage.googleapis.com (storage.googleapis.com)|142.251.12.207|:443... connected.\n",
      "HTTP request sent, awaiting response... 200 OK\n",
      "Length: 205016864 (196M) [application/octet-stream]\n",
      "Saving to: ‘laptop.npy’\n",
      "\n",
      "laptop.npy          100%[===================>] 195.52M  21.4MB/s    in 11s     \n",
      "\n",
      "2024-01-14 18:08:54 (18.4 MB/s) - ‘laptop.npy’ saved [205016864/205016864]\n",
      "\n",
      "--2024-01-14 18:08:54--  https://storage.googleapis.com/quickdraw_dataset/full/numpy_bitmap/mouse.npy\n",
      "Resolving storage.googleapis.com (storage.googleapis.com)... 142.251.12.207, 172.217.194.207, 74.125.200.207, ...\n",
      "Connecting to storage.googleapis.com (storage.googleapis.com)|142.251.12.207|:443... connected.\n",
      "HTTP request sent, awaiting response... 200 OK\n",
      "Length: 140199664 (134M) [application/octet-stream]\n",
      "Saving to: ‘mouse.npy’\n",
      "\n",
      "mouse.npy           100%[===================>] 133.70M  19.6MB/s    in 7.4s    \n",
      "\n",
      "2024-01-14 18:09:02 (18.0 MB/s) - ‘mouse.npy’ saved [140199664/140199664]\n",
      "\n",
      "--2024-01-14 18:09:02--  https://storage.googleapis.com/quickdraw_dataset/full/numpy_bitmap/radio.npy\n",
      "Resolving storage.googleapis.com (storage.googleapis.com)... 142.251.12.207, 172.217.194.207, 74.125.200.207, ...\n",
      "Connecting to storage.googleapis.com (storage.googleapis.com)|142.251.12.207|:443... connected.\n",
      "HTTP request sent, awaiting response... 200 OK\n",
      "Length: 106410832 (101M) [application/octet-stream]\n",
      "Saving to: ‘radio.npy’\n",
      "\n",
      "radio.npy           100%[===================>] 101.48M  21.6MB/s    in 5.8s    \n",
      "\n",
      "2024-01-14 18:09:08 (17.6 MB/s) - ‘radio.npy’ saved [106410832/106410832]\n",
      "\n",
      "--2024-01-14 18:09:08--  https://storage.googleapis.com/quickdraw_dataset/full/numpy_bitmap/spreadsheet.npy\n",
      "Resolving storage.googleapis.com (storage.googleapis.com)... 142.251.12.207, 172.217.194.207, 74.125.200.207, ...\n",
      "Connecting to storage.googleapis.com (storage.googleapis.com)|142.251.12.207|:443... connected.\n",
      "HTTP request sent, awaiting response... 200 OK\n",
      "Length: 133436880 (127M) [application/octet-stream]\n",
      "Saving to: ‘spreadsheet.npy’\n",
      "\n",
      "spreadsheet.npy     100%[===================>] 127.25M  21.3MB/s    in 7.1s    \n",
      "\n",
      "2024-01-14 18:09:16 (17.9 MB/s) - ‘spreadsheet.npy’ saved [133436880/133436880]\n",
      "\n",
      "--2024-01-14 18:09:16--  https://storage.googleapis.com/quickdraw_dataset/full/numpy_bitmap/telephone.npy\n",
      "Resolving storage.googleapis.com (storage.googleapis.com)... 142.251.12.207, 172.217.194.207, 74.125.200.207, ...\n",
      "Connecting to storage.googleapis.com (storage.googleapis.com)|142.251.12.207|:443... connected.\n",
      "HTTP request sent, awaiting response... 200 OK\n",
      "Length: 100261920 (96M) [application/octet-stream]\n",
      "Saving to: ‘telephone.npy’\n",
      "\n",
      "telephone.npy       100%[===================>]  95.62M  21.2MB/s    in 5.5s    \n",
      "\n",
      "2024-01-14 18:09:22 (17.4 MB/s) - ‘telephone.npy’ saved [100261920/100261920]\n",
      "\n",
      "--2024-01-14 18:09:22--  https://storage.googleapis.com/quickdraw_dataset/full/numpy_bitmap/television.npy\n",
      "Resolving storage.googleapis.com (storage.googleapis.com)... 142.251.12.207, 172.217.194.207, 74.125.200.207, ...\n",
      "Connecting to storage.googleapis.com (storage.googleapis.com)|142.251.12.207|:443... connected.\n",
      "HTTP request sent, awaiting response... 200 OK\n",
      "Length: 96539488 (92M) [application/octet-stream]\n",
      "Saving to: ‘television.npy’\n",
      "\n",
      "television.npy      100%[===================>]  92.07M  20.0MB/s    in 5.7s    \n",
      "\n",
      "2024-01-14 18:09:28 (16.1 MB/s) - ‘television.npy’ saved [96539488/96539488]\n",
      "\n"
     ]
    }
   ],
   "source": [
    "!wget https://storage.googleapis.com/quickdraw_dataset/full/numpy_bitmap/book.npy\n",
    "!wget https://storage.googleapis.com/quickdraw_dataset/full/numpy_bitmap/calculator.npy\n",
    "!wget https://storage.googleapis.com/quickdraw_dataset/full/numpy_bitmap/camera.npy\n",
    "!wget https://storage.googleapis.com/quickdraw_dataset/full/numpy_bitmap/computer.npy\n",
    "!wget https://storage.googleapis.com/quickdraw_dataset/full/numpy_bitmap/envelope.npy\n",
    "!wget https://storage.googleapis.com/quickdraw_dataset/full/numpy_bitmap/headphones.npy\n",
    "!wget https://storage.googleapis.com/quickdraw_dataset/full/numpy_bitmap/laptop.npy\n",
    "!wget https://storage.googleapis.com/quickdraw_dataset/full/numpy_bitmap/mouse.npy\n",
    "!wget https://storage.googleapis.com/quickdraw_dataset/full/numpy_bitmap/radio.npy\n",
    "!wget https://storage.googleapis.com/quickdraw_dataset/full/numpy_bitmap/spreadsheet.npy\n",
    "!wget https://storage.googleapis.com/quickdraw_dataset/full/numpy_bitmap/telephone.npy\n",
    "!wget https://storage.googleapis.com/quickdraw_dataset/full/numpy_bitmap/television.npy"
   ]
  },
  {
   "cell_type": "code",
   "execution_count": 5,
   "metadata": {
    "colab": {
     "base_uri": "https://localhost:8080/"
    },
    "id": "APlFR9VimPm2",
    "outputId": "573e4253-3c9a-44ad-cd62-e5804fb6edd1"
   },
   "outputs": [
    {
     "name": "stdout",
     "output_type": "stream",
     "text": [
      "book.npy\tcomputer.npy\tlaptop.npy  spreadsheet.npy\n",
      "calculator.npy\tenvelope.npy\tmouse.npy   telephone.npy\n",
      "camera.npy\theadphones.npy\tradio.npy   television.npy\n"
     ]
    }
   ],
   "source": [
    "!ls"
   ]
  },
  {
   "cell_type": "code",
   "execution_count": 8,
   "metadata": {
    "colab": {
     "base_uri": "https://localhost:8080/"
    },
    "id": "8ZiAbqjvTwQe",
    "outputId": "c5026cfa-5479-479b-f5e7-d314e9224329"
   },
   "outputs": [
    {
     "name": "stdout",
     "output_type": "stream",
     "text": [
      "/home/arashnrim\n"
     ]
    }
   ],
   "source": [
    "%cd"
   ]
  },
  {
   "cell_type": "code",
   "execution_count": 9,
   "metadata": {
    "id": "kMyTkbd3mXlo"
   },
   "outputs": [
    {
     "ename": "ModuleNotFoundError",
     "evalue": "No module named 'tensorflow'",
     "output_type": "error",
     "traceback": [
      "\u001b[0;31m---------------------------------------------------------------------------\u001b[0m",
      "\u001b[0;31mModuleNotFoundError\u001b[0m                       Traceback (most recent call last)",
      "\u001b[0;32m/tmp/ipykernel_1829/3725907588.py\u001b[0m in \u001b[0;36m<module>\u001b[0;34m\u001b[0m\n\u001b[1;32m      1\u001b[0m \u001b[0;32mfrom\u001b[0m \u001b[0msklearn\u001b[0m\u001b[0;34m.\u001b[0m\u001b[0mmodel_selection\u001b[0m \u001b[0;32mimport\u001b[0m \u001b[0mtrain_test_split\u001b[0m \u001b[0;32mas\u001b[0m \u001b[0mtrain_test_split\u001b[0m\u001b[0;34m\u001b[0m\u001b[0;34m\u001b[0m\u001b[0m\n\u001b[0;32m----> 2\u001b[0;31m \u001b[0;32mfrom\u001b[0m \u001b[0mkeras\u001b[0m\u001b[0;34m.\u001b[0m\u001b[0mmodels\u001b[0m \u001b[0;32mimport\u001b[0m \u001b[0mSequential\u001b[0m\u001b[0;34m\u001b[0m\u001b[0;34m\u001b[0m\u001b[0m\n\u001b[0m\u001b[1;32m      3\u001b[0m \u001b[0;32mfrom\u001b[0m \u001b[0mkeras\u001b[0m\u001b[0;34m.\u001b[0m\u001b[0mlayers\u001b[0m \u001b[0;32mimport\u001b[0m \u001b[0mDense\u001b[0m\u001b[0;34m,\u001b[0m \u001b[0mDropout\u001b[0m\u001b[0;34m,\u001b[0m \u001b[0mConv2D\u001b[0m\u001b[0;34m,\u001b[0m \u001b[0mMaxPooling2D\u001b[0m\u001b[0;34m,\u001b[0m \u001b[0mFlatten\u001b[0m\u001b[0;34m\u001b[0m\u001b[0;34m\u001b[0m\u001b[0m\n\u001b[1;32m      4\u001b[0m \u001b[0;32mfrom\u001b[0m \u001b[0mkeras\u001b[0m\u001b[0;34m.\u001b[0m\u001b[0mutils\u001b[0m \u001b[0;32mimport\u001b[0m \u001b[0mnp_utils\u001b[0m\u001b[0;34m\u001b[0m\u001b[0;34m\u001b[0m\u001b[0m\n\u001b[1;32m      5\u001b[0m \u001b[0;32mfrom\u001b[0m \u001b[0mrandom\u001b[0m \u001b[0;32mimport\u001b[0m \u001b[0mrandint\u001b[0m\u001b[0;34m\u001b[0m\u001b[0;34m\u001b[0m\u001b[0m\n",
      "\u001b[0;32m~/.pyenv/versions/anaconda3-2022.10/lib/python3.9/site-packages/keras/__init__.py\u001b[0m in \u001b[0;36m<module>\u001b[0;34m\u001b[0m\n\u001b[0;32m----> 1\u001b[0;31m \u001b[0;32mfrom\u001b[0m \u001b[0mkeras\u001b[0m \u001b[0;32mimport\u001b[0m \u001b[0mactivations\u001b[0m\u001b[0;34m\u001b[0m\u001b[0;34m\u001b[0m\u001b[0m\n\u001b[0m\u001b[1;32m      2\u001b[0m \u001b[0;32mfrom\u001b[0m \u001b[0mkeras\u001b[0m \u001b[0;32mimport\u001b[0m \u001b[0mapplications\u001b[0m\u001b[0;34m\u001b[0m\u001b[0;34m\u001b[0m\u001b[0m\n\u001b[1;32m      3\u001b[0m \u001b[0;32mfrom\u001b[0m \u001b[0mkeras\u001b[0m \u001b[0;32mimport\u001b[0m \u001b[0mbackend\u001b[0m\u001b[0;34m\u001b[0m\u001b[0;34m\u001b[0m\u001b[0m\n\u001b[1;32m      4\u001b[0m \u001b[0;32mfrom\u001b[0m \u001b[0mkeras\u001b[0m \u001b[0;32mimport\u001b[0m \u001b[0mconstraints\u001b[0m\u001b[0;34m\u001b[0m\u001b[0;34m\u001b[0m\u001b[0m\n\u001b[1;32m      5\u001b[0m \u001b[0;32mfrom\u001b[0m \u001b[0mkeras\u001b[0m \u001b[0;32mimport\u001b[0m \u001b[0mdatasets\u001b[0m\u001b[0;34m\u001b[0m\u001b[0;34m\u001b[0m\u001b[0m\n",
      "\u001b[0;32m~/.pyenv/versions/anaconda3-2022.10/lib/python3.9/site-packages/keras/activations/__init__.py\u001b[0m in \u001b[0;36m<module>\u001b[0;34m\u001b[0m\n\u001b[1;32m      1\u001b[0m \u001b[0;32mimport\u001b[0m \u001b[0mtypes\u001b[0m\u001b[0;34m\u001b[0m\u001b[0;34m\u001b[0m\u001b[0m\n\u001b[1;32m      2\u001b[0m \u001b[0;34m\u001b[0m\u001b[0m\n\u001b[0;32m----> 3\u001b[0;31m \u001b[0;32mfrom\u001b[0m \u001b[0mkeras\u001b[0m\u001b[0;34m.\u001b[0m\u001b[0mactivations\u001b[0m\u001b[0;34m.\u001b[0m\u001b[0mactivations\u001b[0m \u001b[0;32mimport\u001b[0m \u001b[0melu\u001b[0m\u001b[0;34m\u001b[0m\u001b[0;34m\u001b[0m\u001b[0m\n\u001b[0m\u001b[1;32m      4\u001b[0m \u001b[0;32mfrom\u001b[0m \u001b[0mkeras\u001b[0m\u001b[0;34m.\u001b[0m\u001b[0mactivations\u001b[0m\u001b[0;34m.\u001b[0m\u001b[0mactivations\u001b[0m \u001b[0;32mimport\u001b[0m \u001b[0mexponential\u001b[0m\u001b[0;34m\u001b[0m\u001b[0;34m\u001b[0m\u001b[0m\n\u001b[1;32m      5\u001b[0m \u001b[0;32mfrom\u001b[0m \u001b[0mkeras\u001b[0m\u001b[0;34m.\u001b[0m\u001b[0mactivations\u001b[0m\u001b[0;34m.\u001b[0m\u001b[0mactivations\u001b[0m \u001b[0;32mimport\u001b[0m \u001b[0mgelu\u001b[0m\u001b[0;34m\u001b[0m\u001b[0;34m\u001b[0m\u001b[0m\n",
      "\u001b[0;32m~/.pyenv/versions/anaconda3-2022.10/lib/python3.9/site-packages/keras/activations/activations.py\u001b[0m in \u001b[0;36m<module>\u001b[0;34m\u001b[0m\n\u001b[0;32m----> 1\u001b[0;31m \u001b[0;32mfrom\u001b[0m \u001b[0mkeras\u001b[0m \u001b[0;32mimport\u001b[0m \u001b[0mbackend\u001b[0m\u001b[0;34m\u001b[0m\u001b[0;34m\u001b[0m\u001b[0m\n\u001b[0m\u001b[1;32m      2\u001b[0m \u001b[0;32mfrom\u001b[0m \u001b[0mkeras\u001b[0m \u001b[0;32mimport\u001b[0m \u001b[0mops\u001b[0m\u001b[0;34m\u001b[0m\u001b[0;34m\u001b[0m\u001b[0m\n\u001b[1;32m      3\u001b[0m \u001b[0;32mfrom\u001b[0m \u001b[0mkeras\u001b[0m\u001b[0;34m.\u001b[0m\u001b[0mapi_export\u001b[0m \u001b[0;32mimport\u001b[0m \u001b[0mkeras_export\u001b[0m\u001b[0;34m\u001b[0m\u001b[0;34m\u001b[0m\u001b[0m\n\u001b[1;32m      4\u001b[0m \u001b[0;34m\u001b[0m\u001b[0m\n\u001b[1;32m      5\u001b[0m \u001b[0;34m\u001b[0m\u001b[0m\n",
      "\u001b[0;32m~/.pyenv/versions/anaconda3-2022.10/lib/python3.9/site-packages/keras/backend/__init__.py\u001b[0m in \u001b[0;36m<module>\u001b[0;34m\u001b[0m\n\u001b[1;32m     31\u001b[0m \u001b[0;31m# Import backend functions.\u001b[0m\u001b[0;34m\u001b[0m\u001b[0;34m\u001b[0m\u001b[0m\n\u001b[1;32m     32\u001b[0m \u001b[0;32mif\u001b[0m \u001b[0mbackend\u001b[0m\u001b[0;34m(\u001b[0m\u001b[0;34m)\u001b[0m \u001b[0;34m==\u001b[0m \u001b[0;34m\"tensorflow\"\u001b[0m\u001b[0;34m:\u001b[0m\u001b[0;34m\u001b[0m\u001b[0;34m\u001b[0m\u001b[0m\n\u001b[0;32m---> 33\u001b[0;31m     \u001b[0;32mfrom\u001b[0m \u001b[0mkeras\u001b[0m\u001b[0;34m.\u001b[0m\u001b[0mbackend\u001b[0m\u001b[0;34m.\u001b[0m\u001b[0mtensorflow\u001b[0m \u001b[0;32mimport\u001b[0m \u001b[0;34m*\u001b[0m  \u001b[0;31m# noqa: F403\u001b[0m\u001b[0;34m\u001b[0m\u001b[0;34m\u001b[0m\u001b[0m\n\u001b[0m\u001b[1;32m     34\u001b[0m \u001b[0;32melif\u001b[0m \u001b[0mbackend\u001b[0m\u001b[0;34m(\u001b[0m\u001b[0;34m)\u001b[0m \u001b[0;34m==\u001b[0m \u001b[0;34m\"jax\"\u001b[0m\u001b[0;34m:\u001b[0m\u001b[0;34m\u001b[0m\u001b[0;34m\u001b[0m\u001b[0m\n\u001b[1;32m     35\u001b[0m     \u001b[0;32mfrom\u001b[0m \u001b[0mkeras\u001b[0m\u001b[0;34m.\u001b[0m\u001b[0mbackend\u001b[0m\u001b[0;34m.\u001b[0m\u001b[0mjax\u001b[0m \u001b[0;32mimport\u001b[0m \u001b[0;34m*\u001b[0m  \u001b[0;31m# noqa: F403\u001b[0m\u001b[0;34m\u001b[0m\u001b[0;34m\u001b[0m\u001b[0m\n",
      "\u001b[0;32m~/.pyenv/versions/anaconda3-2022.10/lib/python3.9/site-packages/keras/backend/tensorflow/__init__.py\u001b[0m in \u001b[0;36m<module>\u001b[0;34m\u001b[0m\n\u001b[0;32m----> 1\u001b[0;31m \u001b[0;32mfrom\u001b[0m \u001b[0mkeras\u001b[0m\u001b[0;34m.\u001b[0m\u001b[0mbackend\u001b[0m\u001b[0;34m.\u001b[0m\u001b[0mtensorflow\u001b[0m \u001b[0;32mimport\u001b[0m \u001b[0mcore\u001b[0m\u001b[0;34m\u001b[0m\u001b[0;34m\u001b[0m\u001b[0m\n\u001b[0m\u001b[1;32m      2\u001b[0m \u001b[0;32mfrom\u001b[0m \u001b[0mkeras\u001b[0m\u001b[0;34m.\u001b[0m\u001b[0mbackend\u001b[0m\u001b[0;34m.\u001b[0m\u001b[0mtensorflow\u001b[0m \u001b[0;32mimport\u001b[0m \u001b[0mdistribution_lib\u001b[0m\u001b[0;34m\u001b[0m\u001b[0;34m\u001b[0m\u001b[0m\n\u001b[1;32m      3\u001b[0m \u001b[0;32mfrom\u001b[0m \u001b[0mkeras\u001b[0m\u001b[0;34m.\u001b[0m\u001b[0mbackend\u001b[0m\u001b[0;34m.\u001b[0m\u001b[0mtensorflow\u001b[0m \u001b[0;32mimport\u001b[0m \u001b[0mimage\u001b[0m\u001b[0;34m\u001b[0m\u001b[0;34m\u001b[0m\u001b[0m\n\u001b[1;32m      4\u001b[0m \u001b[0;32mfrom\u001b[0m \u001b[0mkeras\u001b[0m\u001b[0;34m.\u001b[0m\u001b[0mbackend\u001b[0m\u001b[0;34m.\u001b[0m\u001b[0mtensorflow\u001b[0m \u001b[0;32mimport\u001b[0m \u001b[0mmath\u001b[0m\u001b[0;34m\u001b[0m\u001b[0;34m\u001b[0m\u001b[0m\n\u001b[1;32m      5\u001b[0m \u001b[0;32mfrom\u001b[0m \u001b[0mkeras\u001b[0m\u001b[0;34m.\u001b[0m\u001b[0mbackend\u001b[0m\u001b[0;34m.\u001b[0m\u001b[0mtensorflow\u001b[0m \u001b[0;32mimport\u001b[0m \u001b[0mnn\u001b[0m\u001b[0;34m\u001b[0m\u001b[0;34m\u001b[0m\u001b[0m\n",
      "\u001b[0;32m~/.pyenv/versions/anaconda3-2022.10/lib/python3.9/site-packages/keras/backend/tensorflow/core.py\u001b[0m in \u001b[0;36m<module>\u001b[0;34m\u001b[0m\n\u001b[1;32m      2\u001b[0m \u001b[0;34m\u001b[0m\u001b[0m\n\u001b[1;32m      3\u001b[0m \u001b[0;32mimport\u001b[0m \u001b[0mnumpy\u001b[0m \u001b[0;32mas\u001b[0m \u001b[0mnp\u001b[0m\u001b[0;34m\u001b[0m\u001b[0;34m\u001b[0m\u001b[0m\n\u001b[0;32m----> 4\u001b[0;31m \u001b[0;32mimport\u001b[0m \u001b[0mtensorflow\u001b[0m \u001b[0;32mas\u001b[0m \u001b[0mtf\u001b[0m\u001b[0;34m\u001b[0m\u001b[0;34m\u001b[0m\u001b[0m\n\u001b[0m\u001b[1;32m      5\u001b[0m \u001b[0;32mfrom\u001b[0m \u001b[0mtensorflow\u001b[0m\u001b[0;34m.\u001b[0m\u001b[0mcompiler\u001b[0m\u001b[0;34m.\u001b[0m\u001b[0mtf2xla\u001b[0m\u001b[0;34m.\u001b[0m\u001b[0mpython\u001b[0m\u001b[0;34m.\u001b[0m\u001b[0mxla\u001b[0m \u001b[0;32mimport\u001b[0m \u001b[0mdynamic_update_slice\u001b[0m\u001b[0;34m\u001b[0m\u001b[0;34m\u001b[0m\u001b[0m\n\u001b[1;32m      6\u001b[0m \u001b[0;34m\u001b[0m\u001b[0m\n",
      "\u001b[0;31mModuleNotFoundError\u001b[0m: No module named 'tensorflow'"
     ]
    }
   ],
   "source": [
    "from sklearn.model_selection import train_test_split as train_test_split\n",
    "from keras.models import Sequential \n",
    "from keras.layers import Dense, Dropout, Conv2D, MaxPooling2D, Flatten\n",
    "from keras.utils import np_utils\n",
    "from random import randint\n",
    "import numpy as np\n",
    "import os\n",
    "from PIL import Image"
   ]
  },
  {
   "cell_type": "code",
   "execution_count": null,
   "metadata": {
    "id": "k-2_6ywNmcku"
   },
   "outputs": [],
   "source": [
    "# Creates a dictionary with all the categories.\n",
    "CATEGORIES = { \n",
    "    0: \"Book\",\n",
    "    1: \"Calculator\",\n",
    "    2: \"Camera\",\n",
    "    3: \"Computer\",\n",
    "    4: \"Envelope\",\n",
    "    5: \"Headphones\",\n",
    "    6: \"Laptop\",\n",
    "    7: \"Mouse\",\n",
    "    8: \"Radio\",\n",
    "    9: \"Spreadsheet\",\n",
    "    10: \"Telephone\",\n",
    "    11: \"Television\",\n",
    "}\n",
    "N_CATEGORIES = len(CATEGORIES)\n",
    "\n",
    "# Defines the number of drawings per category to take in.\n",
    "N = 7500\n",
    "\n",
    "# Defines the number of epochs (iterations of training) the model will undergo.\n",
    "N_EPOCHS = 10\n",
    "\n",
    "# The files to learn from. They MUST match the information in CATEGORIES for proper classification.\n",
    "files = [\"book.npy\", \"calculator.npy\", \"camera.npy\", \"computer.npy\", \"envelope.npy\", \"headphones.npy\", \"laptop.npy\", \"mouse.npy\", \"radio.npy\", \"spreadsheet.npy\", \"telephone.npy\", \"television.npy\"]"
   ]
  },
  {
   "cell_type": "code",
   "execution_count": null,
   "metadata": {
    "id": "dbHh7N2qmjOY"
   },
   "outputs": [],
   "source": [
    "def load(dir,reshaped, files):\n",
    "  # Takes the .npy files and return them as arrays.\n",
    "  data = [ ]\n",
    "  for file in files:\n",
    "    f = np.load(dir + file)\n",
    "    if reshaped:\n",
    "      new_f =[]\n",
    "      for i in range(len(f)):\n",
    "        x = np.reshape(f[i], (28,28))\n",
    "        x = np.expand_dims(x, axis = 0)\n",
    "        x = np.reshape(f[i], (28,28,1))\n",
    "        new_f.append(x)\n",
    "      f = new_f\n",
    "    data.append(f)\n",
    "  return data\n",
    "\n",
    "def normalize(data):\n",
    "  # Takes a list ot a list of lists and returns its normalized form.\n",
    "  return np.interp(data, [0,255],[-1,1])\n",
    "\n",
    "def denormalize(data):\n",
    "  # Takes a list ot a list of lists and returns its denormalized form.\n",
    "  return np.interp(data,[-1,1],[0,255])\n",
    "\n",
    "def visualize(array):\n",
    "  # Visualizes a 2D array as an Image.\n",
    "  array = np.reshape(array, (28,28))\n",
    "  img = Image.fromarray(array)\n",
    "  return img \n",
    "\n",
    "def set_limit(arrays, n):\n",
    "  # Limits the elements from each array up to the nth element and returns a single list.\n",
    "  new = []\n",
    "  for array in arrays:\n",
    "    i = 0\n",
    "    for item in array:\n",
    "      if i == n:\n",
    "        break\n",
    "      new.append(item)\n",
    "      i += 1\n",
    "  return new\n",
    "\n",
    "def make_labels(N1, N2):\n",
    "  # Make labels from 0 to N1, each repeated N2 times.\n",
    "  labels = []\n",
    "  for i in range(N1):\n",
    "    labels += [i] *N2\n",
    "  return labels"
   ]
  },
  {
   "cell_type": "code",
   "execution_count": null,
   "metadata": {
    "id": "8inwK9Mmmmw6"
   },
   "outputs": [],
   "source": [
    "images = load(\"/content/data/\", False, [\"book.npy\"])"
   ]
  },
  {
   "cell_type": "code",
   "execution_count": null,
   "metadata": {
    "colab": {
     "base_uri": "https://localhost:8080/",
     "height": 45
    },
    "id": "-QF68CGImuuU",
    "outputId": "a132dc34-c608-44c6-91be-5d971d983088"
   },
   "outputs": [],
   "source": [
    "visualize(images[0][0])"
   ]
  },
  {
   "cell_type": "code",
   "execution_count": null,
   "metadata": {
    "id": "-DIXA7JXmz3z"
   },
   "outputs": [],
   "source": [
    "# Loads the content into /content/data/ while reshaping images to 28 x 28 (second True argument). A ConvNet expects this format.\n",
    "images = load(\"/content/data/\", True, files)\n",
    "\n",
    "images = set_limit(images, N)\n",
    "# Normalizes the values and makes the values -1 to 1. This ensures better performance of the model.\n",
    "images = list(map(normalize, images))\n",
    "\n",
    "labels = make_labels(N_CATEGORIES, N)\n",
    "\n",
    "# Reserves 5 percent of the dataset for training purposes only (test_size) and splits the data into training and testing datasets.\n",
    "x_train, x_test, y_train, y_test = train_test_split(images, labels, test_size=0.05)\n",
    "\n",
    "# Performs one-hot encoding.\n",
    "Y_train = np_utils.to_categorical(y_train, N_CATEGORIES)\n",
    "Y_test = np_utils.to_categorical(y_test, N_CATEGORIES)"
   ]
  },
  {
   "cell_type": "code",
   "execution_count": null,
   "metadata": {
    "id": "F2bUlK3Qq5ot"
   },
   "outputs": [],
   "source": [
    "# Creating the ConvNet, adding a process each step of the way.\n",
    "model = Sequential()\n",
    "\n",
    "# The input shape is 28 x 28 because of the image size, and 1 is due to it being black and white image (1 channel instead of 3 channels for RGB).\n",
    "model.add(Conv2D(32, kernel_size=(3 , 3), activation=\"relu\", input_shape=(28,28,1)))\n",
    "model.add(Conv2D(64, (3,3), activation=\"relu\"))\n",
    "\n",
    "# A resizing kind of error. Simplified image.\n",
    "model.add(MaxPooling2D(pool_size = (2,2)))\n",
    "\n",
    "# Dropout layers ensure that we are not overfitting the model.\n",
    "model.add(Dropout(0.25))\n",
    "model.add(Flatten())\n",
    "model.add(Dense(128, activation=\"relu\"))\n",
    "model.add(Dropout(0.5))\n",
    "\n",
    "# The N_CATEGORIES is present because we want the number of nodes to be the same as the number of categories.\n",
    "model.add(Dense(N_CATEGORIES, activation=\"softmax\"))\n"
   ]
  },
  {
   "cell_type": "code",
   "execution_count": null,
   "metadata": {
    "colab": {
     "base_uri": "https://localhost:8080/"
    },
    "id": "K-NmwPEMS_gy",
    "outputId": "39e68434-2f22-4c25-9ff7-b75a0a932a71"
   },
   "outputs": [],
   "source": [
    "%cd /content"
   ]
  },
  {
   "cell_type": "code",
   "execution_count": null,
   "metadata": {
    "colab": {
     "base_uri": "https://localhost:8080/"
    },
    "id": "_1ryrGv4s6V4",
    "outputId": "8f358b7a-4542-4152-ed16-e235f682ab5c"
   },
   "outputs": [],
   "source": [
    "# Compiles and trains the model; the fit() function is the most important in actually creating the model.\n",
    "model.compile(loss=\"categorical_crossentropy\", optimizer=\"adam\", metrics=[\"accuracy\"] )\n",
    "model.fit(np.array(x_train), np.array(Y_train), batch_size=32, epochs=N_EPOCHS)\n",
    "print(\"Training complete\")\n",
    "\n",
    "# Evaluates the performance of the model by passing a test image into it.\n",
    "print(\"Evaluating model\")\n",
    "preds = model.predict(np.array(x_test))\n",
    "\n",
    "# Calculates an accuracy score and displays it.\n",
    "score = 0\n",
    "for i in range(len(preds)):\n",
    "  if np.argmax(preds[i]) == y_test[i]:\n",
    "    score += 1\n",
    "print(\"Accuracy:\", ((score + 0.0)/ len(preds)) * 100)\n",
    "\n",
    "# Saves the model as a Keras H5 (.h5) file.\n",
    "model.save(\"model.h5\")\n",
    "print(\"Model saved\")"
   ]
  },
  {
   "cell_type": "code",
   "execution_count": null,
   "metadata": {},
   "outputs": [],
   "source": []
  }
 ],
 "metadata": {
  "colab": {
   "provenance": []
  },
  "kernelspec": {
   "display_name": "Python 3 (ipykernel)",
   "language": "python",
   "name": "python3"
  },
  "language_info": {
   "codemirror_mode": {
    "name": "ipython",
    "version": 3
   },
   "file_extension": ".py",
   "mimetype": "text/x-python",
   "name": "python",
   "nbconvert_exporter": "python",
   "pygments_lexer": "ipython3",
   "version": "3.9.13"
  },
  "vscode": {
   "interpreter": {
    "hash": "68bfa1c0b4fd7a56b67c21cfb0a1ee2837db3f708fe2cf8efec02ffc6121d3fd"
   }
  }
 },
 "nbformat": 4,
 "nbformat_minor": 4
}
